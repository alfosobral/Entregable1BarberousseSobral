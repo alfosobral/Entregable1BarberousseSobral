{
 "cells": [
  {
   "cell_type": "markdown",
   "id": "346ee2d7",
   "metadata": {},
   "source": [
    "Paleta de colores\n",
    "['#f5f5f1', '#e50914', '#b20710', '#221f1f']\n"
   ]
  },
  {
   "cell_type": "code",
   "execution_count": null,
   "id": "f1d40d1f",
   "metadata": {},
   "outputs": [
    {
     "ename": "SyntaxError",
     "evalue": "invalid non-printable character U+00A0 (187287816.py, line 7)",
     "output_type": "error",
     "traceback": [
      "\u001b[1;36m  Cell \u001b[1;32mIn[1], line 7\u001b[1;36m\u001b[0m\n\u001b[1;33m    df.to_excel(\"netflix.xlsx\", index=False)\u001b[0m\n\u001b[1;37m                               ^\u001b[0m\n\u001b[1;31mSyntaxError\u001b[0m\u001b[1;31m:\u001b[0m invalid non-printable character U+00A0\n"
     ]
    }
   ],
   "source": [
    "import pandas as pd\n",
    "\n",
    "# Intenta leer el archivo ignorando líneas con errores\n",
    "df = pd.read_csv(\"netflix.csv\")\n",
    "\n",
    "# Guarda el resultado en un archivo Excel nuevo\n",
    "df.to_excel(\"netflix.xlsx\",index=False)"
   ]
  }
 ],
 "metadata": {
  "kernelspec": {
   "display_name": "Python 3",
   "language": "python",
   "name": "python3"
  },
  "language_info": {
   "codemirror_mode": {
    "name": "ipython",
    "version": 3
   },
   "file_extension": ".py",
   "mimetype": "text/x-python",
   "name": "python",
   "nbconvert_exporter": "python",
   "pygments_lexer": "ipython3",
   "version": "3.10.11"
  }
 },
 "nbformat": 4,
 "nbformat_minor": 5
}
