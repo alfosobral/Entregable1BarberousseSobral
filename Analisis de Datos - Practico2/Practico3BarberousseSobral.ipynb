{
 "cells": [
  {
   "cell_type": "markdown",
   "id": "f6a05510",
   "metadata": {},
   "source": []
  },
  {
   "cell_type": "code",
   "execution_count": null,
   "id": "c8079dad",
   "metadata": {
    "vscode": {
     "languageId": "plaintext"
    }
   },
   "outputs": [],
   "source": []
  }
 ],
 "metadata": {
  "language_info": {
   "name": "python"
  }
 },
 "nbformat": 4,
 "nbformat_minor": 5
}
