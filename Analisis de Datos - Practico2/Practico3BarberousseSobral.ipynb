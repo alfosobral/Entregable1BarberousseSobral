{
 "cells": [
  {
   "cell_type": "markdown",
   "id": "f6a05510",
   "metadata": {},
   "source": [
    "Ejercicio 8"
   ]
  },
  {
   "cell_type": "code",
   "execution_count": null,
   "id": "c8079dad",
   "metadata": {},
   "outputs": [
    {
     "name": "stdout",
     "output_type": "stream",
     "text": [
      "5.142857142857143 2.2677868380553634 7.0\n"
     ]
    }
   ],
   "source": [
    "\n",
    "import math\n",
    "\n",
    "arr = [6, 8, 7, 10, 3, 5, 9, 8]\n",
    "\n",
    "N = len(arr)\n",
    "\n",
    "media = sum(arr)/N\n",
    "\n",
    "var_muestr = 0\n",
    "\n",
    "for i in range(N):\n",
    "    x_i = arr[i]\n",
    "    var_muestr += (x_i - media)**2\n",
    "\n",
    "var_muestr = var_muestr/(N - 1)\n",
    "\n",
    "desv_muestr = math.sqrt(var_muestr)\n",
    "\n",
    "print(var_muestr, desv_muestr, media)\n"
   ]
  },
  {
   "cell_type": "markdown",
   "id": "5ebef7da",
   "metadata": {},
   "source": [
    "Ejercicio 9"
   ]
  },
  {
   "cell_type": "code",
   "execution_count": 1,
   "id": "8a349c80",
   "metadata": {},
   "outputs": [
    {
     "name": "stdout",
     "output_type": "stream",
     "text": [
      "Datos: [10, 8, 11, 7, 9]\n",
      "\n",
      "Media (μ): 9.0\n",
      "Desviación estándar muestral (s): 1.5811\n",
      "Coeficiente de variación (CV): 17.57%\n"
     ]
    }
   ],
   "source": [
    "import numpy as np\n",
    "\n",
    "# Datos muestrales\n",
    "datos = [10, 8, 11, 7, 9]\n",
    "\n",
    "print(\"Datos:\", datos)\n",
    "print()\n",
    "\n",
    "media = np.mean(datos)\n",
    "print(f\"Media (μ): {media}\")\n",
    "\n",
    "desviacion_estandar = np.std(datos, ddof=1) #ddof=1 es para que sea desv est. muestral\n",
    "print(f\"Desviación estándar muestral (s): {desviacion_estandar:.4f}\") # .4f para que tenga solo 4 cifras luego de la coma\n",
    "\n",
    "coeficiente_variacion = (desviacion_estandar / media) * 100\n",
    "print(f\"Coeficiente de variación (CV): {coeficiente_variacion:.2f}%\")"
   ]
  },
  {
   "cell_type": "markdown",
   "id": "f165e011",
   "metadata": {},
   "source": [
    "Ejercicio 10"
   ]
  },
  {
   "cell_type": "code",
   "execution_count": null,
   "id": "597dbf94",
   "metadata": {},
   "outputs": [
    {
     "name": "stdout",
     "output_type": "stream",
     "text": [
      "4.2 4.583333333333334\n"
     ]
    }
   ],
   "source": [
    "\n",
    "X = [4.6, 3.2, 5.4, 2.6, 5.2]\n",
    "W = [8, 3, 6, 2, 5]\n",
    "\n",
    "N = len(X)\n",
    "\n",
    "media_a = sum(X)/N\n",
    "\n",
    "num = 0\n",
    "den = 0 \n",
    "\n",
    "for i in range(N):\n",
    "    x_i = X[i]\n",
    "    w_i = W[i]\n",
    "\n",
    "    num += x_i*w_i\n",
    "    den += w_i\n",
    "\n",
    "media_p = num/den\n",
    "\n",
    "print(media_a, media_p)\n"
   ]
  },
  {
   "cell_type": "markdown",
   "id": "0e62a8f4",
   "metadata": {},
   "source": [
    "Ejercicio 11"
   ]
  },
  {
   "cell_type": "code",
   "execution_count": 2,
   "id": "5569e8e5",
   "metadata": {},
   "outputs": [
    {
     "name": "stdout",
     "output_type": "stream",
     "text": [
      "a) Media muestral: 12.62\n",
      "b) Varianza muestral: 41.2660\n",
      "   Desviación estándar muestral: 6.4239\n"
     ]
    }
   ],
   "source": [
    "import numpy as np\n",
    "import pandas as pd\n",
    "\n",
    "clases = ['0-4', '5-9', '10-14', '15-19', '20-24']\n",
    "frecuencias = [5, 8, 11, 9, 7]\n",
    "\n",
    "# Calculamos los puntos medios a mano --> (0+4)/2, (5+9)/2, etc\n",
    "marcas_clase = [2, 7, 12, 17, 22]  \n",
    "\n",
    "n = sum(frecuencias)\n",
    "\n",
    "# a) Calcular la media muestral\n",
    "# Media = Σ(xi * fi) / n\n",
    "suma_xi_fi = sum(xi * fi for xi, fi in zip(marcas_clase, frecuencias))\n",
    "media = suma_xi_fi / n\n",
    "\n",
    "# b) Calcular la varianza y desviación estándar muestral\n",
    "# Varianza muestral = Σ(xi - x̄)² × fi / (n-1)\n",
    "# Primero calculamos (xi - x̄)² × fi para cada clase\n",
    "diferencias_cuadrado = [(xi - media)**2 for xi in marcas_clase]\n",
    "diferencias_cuadrado_fi = [(xi - media)**2 * fi for xi, fi in zip(marcas_clase, frecuencias)]\n",
    "\n",
    "# Suma de (xi - x̄)² × fi\n",
    "suma_diferencias_cuadrado_fi = sum(diferencias_cuadrado_fi)\n",
    "\n",
    "# Varianza muestral (dividimos por n-1)\n",
    "varianza_muestral = suma_diferencias_cuadrado_fi / (n - 1)\n",
    "\n",
    "# Desviación estándar muestral\n",
    "desviacion_estandar_muestral = np.sqrt(varianza_muestral)\n",
    "\n",
    "print(f\"a) Media muestral: {media:.2f}\")\n",
    "print(f\"b) Varianza muestral: {varianza_muestral:.4f}\")\n",
    "print(f\"   Desviación estándar muestral: {desviacion_estandar_muestral:.4f}\")"
   ]
  },
  {
   "cell_type": "markdown",
   "id": "e3fd5306",
   "metadata": {},
   "source": [
    "Ejercicio 12"
   ]
  },
  {
   "cell_type": "code",
   "execution_count": null,
   "id": "343b18c1",
   "metadata": {},
   "outputs": [
    {
     "name": "stdout",
     "output_type": "stream",
     "text": [
      "32299.519153438418\n"
     ]
    }
   ],
   "source": [
    "\n",
    "W = [4500752, 8684715, 12653544, 6195643, 19190115, 12365455, 5841748]\n",
    "P = [26338, 29442, 33690, 28783, 36574, 31998, 28455]\n",
    "\n",
    "N = len(P)\n",
    "\n",
    "num = 0\n",
    "den = 0 \n",
    "\n",
    "for i in range(N):\n",
    "    p_i = P[i]\n",
    "    w_i = W[i]\n",
    "\n",
    "    num += p_i*w_i\n",
    "    den += w_i\n",
    "\n",
    "media_p = num/den\n",
    "\n",
    "print(media_p)"
   ]
  },
  {
   "cell_type": "markdown",
   "id": "ddc5d7aa",
   "metadata": {},
   "source": [
    "Ejercicio 13"
   ]
  },
  {
   "cell_type": "code",
   "execution_count": 3,
   "id": "c0a8a5fb",
   "metadata": {},
   "outputs": [
    {
     "name": "stdout",
     "output_type": "stream",
     "text": [
      "Desviación estándar = 0.9817\n"
     ]
    }
   ],
   "source": [
    "import numpy as np\n",
    "import pandas as pd\n",
    "\n",
    "defectos = [0, 1, 2, 3]  # xi (número de defectos)\n",
    "num_radios = [12, 15, 17, 6]  # fi (frecuencias)\n",
    "\n",
    "n = sum(num_radios)\n",
    "\n",
    "# Paso 1: Calcular la media\n",
    "suma_xi_fi = sum(xi * fi for xi, fi in zip(defectos, num_radios))\n",
    "media = suma_xi_fi / n\n",
    "\n",
    "# Paso 2: Calcular la varianza muestral\n",
    "suma_diferencias_cuadrado_fi = 0\n",
    "for i in range(len(defectos)):\n",
    "    xi = defectos[i]\n",
    "    fi = num_radios[i]\n",
    "    diferencia = xi - media\n",
    "    diferencia_cuadrado = diferencia ** 2\n",
    "    diferencia_cuadrado_fi = diferencia_cuadrado * fi\n",
    "    suma_diferencias_cuadrado_fi += diferencia_cuadrado_fi\n",
    "\n",
    "# Varianza muestral\n",
    "varianza_muestral = suma_diferencias_cuadrado_fi / (n - 1)\n",
    "\n",
    "# Paso 3: Calcular la desviación estándar\n",
    "desviacion_estandar = np.sqrt(varianza_muestral)\n",
    "print(f\"Desviación estándar = {desviacion_estandar:.4f}\")"
   ]
  },
  {
   "cell_type": "markdown",
   "id": "7d3f8ef1",
   "metadata": {},
   "source": [
    "Ejercicio 14"
   ]
  },
  {
   "cell_type": "code",
   "execution_count": null,
   "id": "25d7d7f0",
   "metadata": {},
   "outputs": [],
   "source": [
    "# Ejercicio 14"
   ]
  },
  {
   "cell_type": "markdown",
   "id": "8a4c5f78",
   "metadata": {},
   "source": [
    "Ejercicio 15"
   ]
  },
  {
   "cell_type": "code",
   "execution_count": 4,
   "id": "f5900e60",
   "metadata": {},
   "outputs": [
    {
     "name": "stdout",
     "output_type": "stream",
     "text": [
      "a) Covarianza muestral: 1.3000\n",
      "b) Coeficiente de correlación: 0.8173\n",
      "\n",
      "Interpretación del coeficiente de correlación:\n",
      "r = 0.8173 indica una correlación fuerte positiva\n"
     ]
    }
   ],
   "source": [
    "import numpy as np\n",
    "import pandas as pd\n",
    "\n",
    "x = [1, 3, 4, 3, 5, 5]\n",
    "y = [5, 7, 6, 6, 7, 8]\n",
    "n = len(x)\n",
    "\n",
    "# Calcular medias\n",
    "media_x = np.mean(x)\n",
    "media_y = np.mean(y)\n",
    "\n",
    "# a) Calcular la covarianza\n",
    "suma_productos = 0\n",
    "for i in range(n):\n",
    "    diff_x = x[i] - media_x\n",
    "    diff_y = y[i] - media_y\n",
    "    producto = diff_x * diff_y\n",
    "    suma_productos += producto\n",
    "\n",
    "covarianza = suma_productos / (n - 1)\n",
    "\n",
    "# b) Calcular el coeficiente de correlación\n",
    "# Calcular desviaciones estándar\n",
    "sx = np.std(x, ddof=1)  \n",
    "sy = np.std(y, ddof=1)  \n",
    "\n",
    "suma_cuadrados_x = 0\n",
    "for i in range(n):\n",
    "    diff_x = x[i] - media_x\n",
    "    cuadrado_x = diff_x ** 2\n",
    "    suma_cuadrados_x += cuadrado_x\n",
    "\n",
    "suma_cuadrados_y = 0\n",
    "for i in range(n):\n",
    "    diff_y = y[i] - media_y\n",
    "    cuadrado_y = diff_y ** 2\n",
    "    suma_cuadrados_y += cuadrado_y\n",
    "\n",
    "# Coeficiente de correlación\n",
    "correlacion = covarianza / (sx * sy)\n",
    "\n",
    "print(f\"a) Covarianza muestral: {covarianza:.4f}\")\n",
    "print(f\"b) Coeficiente de correlación: {correlacion:.4f}\")\n",
    "\n",
    "# Interpretación del coeficiente de correlación\n",
    "print(\"\\nInterpretación del coeficiente de correlación:\")\n",
    "if abs(correlacion) >= 0.8:\n",
    "    fuerza = \"fuerte\"\n",
    "elif abs(correlacion) >= 0.5:\n",
    "    fuerza = \"moderada\"\n",
    "else:\n",
    "    fuerza = \"débil\"\n",
    "\n",
    "if correlacion > 0:\n",
    "    direccion = \"positiva\"\n",
    "elif correlacion < 0:\n",
    "    direccion = \"negativa\"\n",
    "else:\n",
    "    direccion = \"nula\"\n",
    "\n",
    "print(f\"r = {correlacion:.4f} indica una correlación {fuerza} {direccion}\")"
   ]
  },
  {
   "cell_type": "markdown",
   "id": "59da953d",
   "metadata": {},
   "source": [
    "Ejercicio 16"
   ]
  },
  {
   "cell_type": "code",
   "execution_count": 5,
   "id": "b37420c8",
   "metadata": {},
   "outputs": [
    {
     "ename": "NameError",
     "evalue": "name 'math' is not defined",
     "output_type": "error",
     "traceback": [
      "\u001b[1;31m---------------------------------------------------------------------------\u001b[0m",
      "\u001b[1;31mNameError\u001b[0m                                 Traceback (most recent call last)",
      "Cell \u001b[1;32mIn[5], line 19\u001b[0m\n\u001b[0;32m     16\u001b[0m     den_X \u001b[38;5;241m+\u001b[39m\u001b[38;5;241m=\u001b[39m (X[i] \u001b[38;5;241m-\u001b[39m media_X)\u001b[38;5;241m*\u001b[39m\u001b[38;5;241m*\u001b[39m\u001b[38;5;241m2\u001b[39m\n\u001b[0;32m     17\u001b[0m     den_Y \u001b[38;5;241m+\u001b[39m\u001b[38;5;241m=\u001b[39m (Y[i] \u001b[38;5;241m-\u001b[39m media_Y)\u001b[38;5;241m*\u001b[39m\u001b[38;5;241m*\u001b[39m\u001b[38;5;241m2\u001b[39m\n\u001b[1;32m---> 19\u001b[0m den \u001b[38;5;241m=\u001b[39m \u001b[43mmath\u001b[49m\u001b[38;5;241m.\u001b[39msqrt(den_X\u001b[38;5;241m*\u001b[39mden_Y)\n\u001b[0;32m     21\u001b[0m coef_corr \u001b[38;5;241m=\u001b[39m cov_XY\u001b[38;5;241m/\u001b[39mden\n\u001b[0;32m     22\u001b[0m cov_XY \u001b[38;5;241m=\u001b[39m cov_XY\u001b[38;5;241m/\u001b[39mN\n",
      "\u001b[1;31mNameError\u001b[0m: name 'math' is not defined"
     ]
    }
   ],
   "source": [
    "\n",
    "X = [5, 4, 9, 14, 21, 7, 7, 9, 14, 11, 21, 17, 9, 21, 4, 9, 14, 13]\n",
    "Y = [53, 56, 54, 56, 65, 53, 56, 59, 48, 66, 57, 49, 53, 52, 56, 46, 66, 49]\n",
    "\n",
    "N = len(X)\n",
    "\n",
    "media_X = sum(X)/N\n",
    "media_Y = sum(Y)/N\n",
    "\n",
    "cov_XY = 0\n",
    "coef_corr = 0\n",
    "den_X = 0\n",
    "den_Y = 0\n",
    "\n",
    "for i in range(N):\n",
    "    cov_XY += (X[i] - media_X)*(Y[i] - media_Y)\n",
    "    den_X += (X[i] - media_X)**2\n",
    "    den_Y += (Y[i] - media_Y)**2\n",
    "\n",
    "den = math.sqrt(den_X*den_Y)\n",
    "\n",
    "coef_corr = cov_XY/den\n",
    "cov_XY = cov_XY/N\n",
    "\n",
    "print(cov_XY, coef_corr)"
   ]
  },
  {
   "cell_type": "markdown",
   "id": "c50cc3bc",
   "metadata": {},
   "source": [
    "Ejercicio 17"
   ]
  },
  {
   "cell_type": "code",
   "execution_count": 7,
   "id": "c88a24fb",
   "metadata": {},
   "outputs": [
    {
     "name": "stdout",
     "output_type": "stream",
     "text": [
      "Covarianza muestral: -5.5000\n",
      "Coeficiente de correlación: -0.7760\n"
     ]
    }
   ],
   "source": [
    "import numpy as np\n",
    "import pandas as pd\n",
    "\n",
    "datos = [(3,7), (3,6), (3,5), (5,5), (10,2), (3,9), (5,6), (10,5), \n",
    "         (5,6), (10,1), (3,10), (5,7), (10,4), (5,6), (10,4)]\n",
    "\n",
    "x = [punto[0] for punto in datos]  \n",
    "y = [punto[1] for punto in datos]  \n",
    "n = len(x)\n",
    "\n",
    "media_x = np.mean(x)\n",
    "media_y = np.mean(y)\n",
    "\n",
    "suma_productos = 0\n",
    "for i in range(n):\n",
    "    diff_x = x[i] - media_x\n",
    "    diff_y = y[i] - media_y\n",
    "    producto = diff_x * diff_y\n",
    "    suma_productos += producto\n",
    "    \n",
    "covarianza = suma_productos / (n - 1)\n",
    "\n",
    "sx = np.std(x, ddof=1)  # Desviación estándar muestral de X\n",
    "sy = np.std(y, ddof=1)  # Desviación estándar muestral de Y\n",
    "\n",
    "correlacion = covarianza / (sx * sy)\n",
    "\n",
    "print(f\"Covarianza muestral: {covarianza:.4f}\")\n",
    "print(f\"Coeficiente de correlación: {correlacion:.4f}\")"
   ]
  },
  {
   "cell_type": "markdown",
   "id": "edaa7529",
   "metadata": {},
   "source": [
    "Ejercicio 21"
   ]
  },
  {
   "cell_type": "code",
   "execution_count": 8,
   "id": "dc16a727",
   "metadata": {},
   "outputs": [
    {
     "data": {
      "image/png": "[encoded data removed]",
      "text/plain": [
       "<Figure size 1200x500 with 2 Axes>"
      ]
     },
     "metadata": {},
     "output_type": "display_data"
    },
    {
     "name": "stdout",
     "output_type": "stream",
     "text": [
      "d) Media (μ) = 2.45 pedidos\n",
      "e) Desviación típica (σ) = 1.3592 pedidos\n"
     ]
    }
   ],
   "source": [
    "import numpy as np\n",
    "import pandas as pd\n",
    "import matplotlib.pyplot as plt\n",
    "\n",
    "pedidos = [0, 1, 2, 3, 4, 5]\n",
    "probabilidades = [0.10, 0.14, 0.26, 0.28, 0.15, 0.07] \n",
    "\n",
    "suma_prob = sum(probabilidades)\n",
    "plt.figure(figsize=(12, 5))\n",
    "plt.subplot(1, 2, 1)\n",
    "plt.bar(pedidos, probabilidades, color='skyblue', edgecolor='black', alpha=0.7)\n",
    "plt.xlabel('Número de Pedidos (X)')\n",
    "plt.ylabel('Probabilidad P(X)')\n",
    "plt.title('Función de Probabilidad\\nPedidos de Calderas')\n",
    "plt.grid(axis='y', alpha=0.3)\n",
    "plt.xticks(pedidos)\n",
    "plt.ylim(0, max(probabilidades) * 1.15) \n",
    "\n",
    "for i, prob in enumerate(probabilidades):\n",
    "    plt.text(i, prob + 0.01, f'{prob:.2f}', ha='center', va='bottom')\n",
    "\n",
    "prob_acumuladas = []\n",
    "acumulada = 0\n",
    "for prob in probabilidades:\n",
    "    acumulada += prob\n",
    "    prob_acumuladas.append(acumulada)\n",
    "\n",
    "plt.subplot(1, 2, 2)\n",
    "plt.step(pedidos, prob_acumuladas, where='post', color='red', linewidth=2, marker='o')\n",
    "plt.xlabel('Número de Pedidos (X)')\n",
    "plt.ylabel('Probabilidad Acumulada P(X ≤ x)')\n",
    "plt.title('Función de Probabilidad Acumulada\\nPedidos de Calderas')\n",
    "plt.grid(True, alpha=0.3)\n",
    "plt.xticks(pedidos)\n",
    "plt.ylim(0, 1.15)  \n",
    "\n",
    "for i, prob_acum in enumerate(prob_acumuladas):\n",
    "    plt.text(i, prob_acum + 0.03, f'{prob_acum:.2f}', ha='center', va='bottom')\n",
    "\n",
    "plt.tight_layout()\n",
    "plt.show()\n",
    "\n",
    "suma_x_prob = 0\n",
    "for i in range(len(pedidos)):\n",
    "    x_prob = pedidos[i] * probabilidades[i]\n",
    "    suma_x_prob += x_prob\n",
    "\n",
    "media_pedidos = suma_x_prob\n",
    "\n",
    "suma_varianza = 0\n",
    "for i in range(len(pedidos)):\n",
    "    diferencia_cuadrada = (pedidos[i] - media_pedidos) ** 2\n",
    "    var_componente = diferencia_cuadrada * probabilidades[i]\n",
    "    suma_varianza += var_componente\n",
    "   \n",
    "varianza_pedidos = suma_varianza\n",
    "desviacion_tipica_pedidos = np.sqrt(varianza_pedidos)\n",
    "\n",
    "print(f\"d) Media (μ) = {media_pedidos:.2f} pedidos\")\n",
    "print(f\"e) Desviación típica (σ) = {desviacion_tipica_pedidos:.4f} pedidos\")"
   ]
  }
 ],
 "metadata": {
  "kernelspec": {
   "display_name": "Python 3",
   "language": "python",
   "name": "python3"
  },
  "language_info": {
   "codemirror_mode": {
    "name": "ipython",
    "version": 3
   },
   "file_extension": ".py",
   "mimetype": "text/x-python",
   "name": "python",
   "nbconvert_exporter": "python",
   "pygments_lexer": "ipython3",
   "version": "3.12.5"
  }
 },
 "nbformat": 4,
 "nbformat_minor": 5
}
