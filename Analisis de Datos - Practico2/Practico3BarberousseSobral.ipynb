{
 "cells": [
  {
   "cell_type": "markdown",
   "id": "f6a05510",
   "metadata": {},
   "source": []
  },
  {
   "cell_type": "code",
   "execution_count": 4,
   "id": "c8079dad",
   "metadata": {},
   "outputs": [
    {
     "name": "stdout",
     "output_type": "stream",
     "text": [
      "5.142857142857143 2.2677868380553634 7.0\n"
     ]
    }
   ],
   "source": [
    "#Ejercicio 8\n",
    "\n",
    "import math\n",
    "\n",
    "arr = [6, 8, 7, 10, 3, 5, 9, 8]\n",
    "\n",
    "N = len(arr)\n",
    "\n",
    "media = sum(arr)/N\n",
    "\n",
    "var_muestr = 0\n",
    "\n",
    "for i in range(N):\n",
    "    x_i = arr[i]\n",
    "    var_muestr += (x_i - media)**2\n",
    "\n",
    "var_muestr = var_muestr/(N - 1)\n",
    "\n",
    "desv_muestr = math.sqrt(var_muestr)\n",
    "\n",
    "print(var_muestr, desv_muestr, media)\n"
   ]
  },
  {
   "cell_type": "code",
   "execution_count": 5,
   "id": "597dbf94",
   "metadata": {},
   "outputs": [
    {
     "name": "stdout",
     "output_type": "stream",
     "text": [
      "4.2 4.583333333333334\n"
     ]
    }
   ],
   "source": [
    "# Ejercicio 10\n",
    "\n",
    "X = [4.6, 3.2, 5.4, 2.6, 5.2]\n",
    "W = [8, 3, 6, 2, 5]\n",
    "\n",
    "N = len(X)\n",
    "\n",
    "media_a = sum(X)/N\n",
    "\n",
    "num = 0\n",
    "den = 0 \n",
    "\n",
    "for i in range(N):\n",
    "    x_i = X[i]\n",
    "    w_i = W[i]\n",
    "\n",
    "    num += x_i*w_i\n",
    "    den += w_i\n",
    "\n",
    "media_p = num/den\n",
    "\n",
    "print(media_a, media_p)\n"
   ]
  },
  {
   "cell_type": "code",
   "execution_count": 7,
   "id": "343b18c1",
   "metadata": {},
   "outputs": [
    {
     "name": "stdout",
     "output_type": "stream",
     "text": [
      "32299.519153438418\n"
     ]
    }
   ],
   "source": [
    "# Ejercicio 12\n",
    "\n",
    "W = [4500752, 8684715, 12653544, 6195643, 19190115, 12365455, 5841748]\n",
    "P = [26338, 29442, 33690, 28783, 36574, 31998, 28455]\n",
    "\n",
    "N = len(P)\n",
    "\n",
    "num = 0\n",
    "den = 0 \n",
    "\n",
    "for i in range(N):\n",
    "    p_i = P[i]\n",
    "    w_i = W[i]\n",
    "\n",
    "    num += p_i*w_i\n",
    "    den += w_i\n",
    "\n",
    "media_p = num/den\n",
    "\n",
    "print(media_p)"
   ]
  },
  {
   "cell_type": "code",
   "execution_count": null,
   "id": "25d7d7f0",
   "metadata": {},
   "outputs": [],
   "source": [
    "# Ejercicio 14"
   ]
  },
  {
   "cell_type": "code",
   "execution_count": null,
   "id": "b37420c8",
   "metadata": {},
   "outputs": [
    {
     "name": "stdout",
     "output_type": "stream",
     "text": [
      "0.1283692964611233\n"
     ]
    }
   ],
   "source": [
    "# Ejercicio 16\n",
    "\n",
    "X = [5, 4, 9, 14, 21, 7, 7, 9, 14, 11, 21, 17, 9, 21, 4, 9, 14, 13]\n",
    "Y = [53, 56, 54, 56, 65, 53, 56, 59, 48, 66, 57, 49, 53, 52, 56, 46, 66, 49]\n",
    "\n",
    "N = len(X)\n",
    "\n",
    "media_X = sum(X)/N\n",
    "media_Y = sum(Y)/N\n",
    "\n",
    "cov_XY = 0\n",
    "coef_corr = 0\n",
    "den_X = 0\n",
    "den_Y = 0\n",
    "\n",
    "for i in range(N):\n",
    "    cov_XY += (X[i] - media_X)*(Y[i] - media_Y)\n",
    "    den_X += (X[i] - media_X)**2\n",
    "    den_Y += (Y[i] - media_Y)**2\n",
    "\n",
    "den = math.sqrt(den_X*den_Y)\n",
    "\n",
    "coef_corr = cov_XY/den\n",
    "cov_XY = cov_XY/N\n",
    "\n",
    "print(cov_XY, coef_corr)"
   ]
  },
  {
   "cell_type": "code",
   "execution_count": null,
   "id": "c88a24fb",
   "metadata": {},
   "outputs": [],
   "source": []
  }
 ],
 "metadata": {
  "kernelspec": {
   "display_name": "Python 3",
   "language": "python",
   "name": "python3"
  },
  "language_info": {
   "codemirror_mode": {
    "name": "ipython",
    "version": 3
   },
   "file_extension": ".py",
   "mimetype": "text/x-python",
   "name": "python",
   "nbconvert_exporter": "python",
   "pygments_lexer": "ipython3",
   "version": "3.10.11"
  }
 },
 "nbformat": 4,
 "nbformat_minor": 5
}
